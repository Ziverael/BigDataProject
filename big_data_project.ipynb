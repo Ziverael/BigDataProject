{
 "cells": [
  {
   "cell_type": "markdown",
   "metadata": {},
   "source": [
    "# Big data project - Bird images clasification"
   ]
  },
  {
   "cell_type": "code",
   "execution_count": 80,
   "metadata": {},
   "outputs": [],
   "source": [
    "from pyspark.sql import SparkSession\n",
    "from pyspark.ml.image import ImageSchema\n",
    "from pyspark.sql.functions import lit\n",
    "from functools import reduce\n",
    "from pyspark.ml.evaluation import MulticlassClassificationEvaluator\n",
    "from pyspark.ml.classification import LogisticRegression\n",
    "from pyspark.ml import Pipeline\n",
    "from sparkdl import DeepImageFeaturizer\n",
    "from sparkdl import readImages as sparkdl_readImages\n",
    "import matplotlib.pyplot as plt\n",
    "import numpy as np\n",
    "import pandas as pd\n",
    "import seaborn as sns\n",
    "import pyspark\n",
    "from sklearn.metrics import confusion_matrix\n",
    "from sklearn.metrics import classification_report\n",
    "from sklearn.metrics import roc_curve, auc, roc_auc_score\n",
    "from sklearn.preprocessing import LabelBinarizer\n",
    "import os\n",
    "from pyspark.sql.functions import lit\n",
    "from pyspark.sql.functions import concat\n",
    "import tensorflow as tf "
   ]
  },
  {
   "cell_type": "markdown",
   "metadata": {},
   "source": [
    "### create a spark session"
   ]
  },
  {
   "cell_type": "code",
   "execution_count": 69,
   "metadata": {},
   "outputs": [],
   "source": [
    "spark = SparkSession.builder.appName('Bird_Classification').getOrCreate()"
   ]
  },
  {
   "cell_type": "markdown",
   "metadata": {},
   "source": [
    "### Images load into Python "
   ]
  },
  {
   "cell_type": "code",
   "execution_count": 70,
   "metadata": {},
   "outputs": [
    {
     "name": "stdout",
     "output_type": "stream",
     "text": [
      "+--------+-----------------------------+---------------+--------+--------------------+\n",
      "|class id|filepaths                    |labels         |data set|scientific name     |\n",
      "+--------+-----------------------------+---------------+--------+--------------------+\n",
      "|0.0     |train/ABBOTTS BABBLER/001.jpg|ABBOTTS BABBLER|train   |MALACOCINCLA ABBOTTI|\n",
      "|0.0     |train/ABBOTTS BABBLER/007.jpg|ABBOTTS BABBLER|train   |MALACOCINCLA ABBOTTI|\n",
      "|0.0     |train/ABBOTTS BABBLER/008.jpg|ABBOTTS BABBLER|train   |MALACOCINCLA ABBOTTI|\n",
      "|0.0     |train/ABBOTTS BABBLER/009.jpg|ABBOTTS BABBLER|train   |MALACOCINCLA ABBOTTI|\n",
      "|0.0     |train/ABBOTTS BABBLER/002.jpg|ABBOTTS BABBLER|train   |MALACOCINCLA ABBOTTI|\n",
      "+--------+-----------------------------+---------------+--------+--------------------+\n",
      "only showing top 5 rows\n",
      "\n"
     ]
    }
   ],
   "source": [
    "bird_df = spark.read.csv(path='birds.csv',\n",
    "                        sep=',',\n",
    "                        encoding='UTF-8',\n",
    "                        comment=None,\n",
    "                        header=True, \n",
    "                        inferSchema=True)\n",
    "bird_df.show(n=5, truncate=False)"
   ]
  },
  {
   "cell_type": "code",
   "execution_count": 71,
   "metadata": {},
   "outputs": [],
   "source": [
    "# tutaj musicie zdefiniować swoje ścieżki, czyli gdzie trzymacie te zdjęcia \n",
    "photo_path = \"C:/Users/kubam/OneDrive/Desktop/studia/semestr 8/Big data/project/\""
   ]
  },
  {
   "cell_type": "code",
   "execution_count": 77,
   "metadata": {},
   "outputs": [
    {
     "name": "stdout",
     "output_type": "stream",
     "text": [
      "+--------+-----------------------------------------------------------------------------------------------+---------------+--------+--------------------+\n",
      "|class id|filepaths                                                                                      |labels         |data set|scientific name     |\n",
      "+--------+-----------------------------------------------------------------------------------------------+---------------+--------+--------------------+\n",
      "|0.0     |C:/Users/kubam/OneDrive/Desktop/studia/semestr 8/Big data/project/train/ABBOTTS BABBLER/001.jpg|ABBOTTS BABBLER|train   |MALACOCINCLA ABBOTTI|\n",
      "|0.0     |C:/Users/kubam/OneDrive/Desktop/studia/semestr 8/Big data/project/train/ABBOTTS BABBLER/007.jpg|ABBOTTS BABBLER|train   |MALACOCINCLA ABBOTTI|\n",
      "|0.0     |C:/Users/kubam/OneDrive/Desktop/studia/semestr 8/Big data/project/train/ABBOTTS BABBLER/008.jpg|ABBOTTS BABBLER|train   |MALACOCINCLA ABBOTTI|\n",
      "|0.0     |C:/Users/kubam/OneDrive/Desktop/studia/semestr 8/Big data/project/train/ABBOTTS BABBLER/009.jpg|ABBOTTS BABBLER|train   |MALACOCINCLA ABBOTTI|\n",
      "|0.0     |C:/Users/kubam/OneDrive/Desktop/studia/semestr 8/Big data/project/train/ABBOTTS BABBLER/002.jpg|ABBOTTS BABBLER|train   |MALACOCINCLA ABBOTTI|\n",
      "|0.0     |C:/Users/kubam/OneDrive/Desktop/studia/semestr 8/Big data/project/train/ABBOTTS BABBLER/003.jpg|ABBOTTS BABBLER|train   |MALACOCINCLA ABBOTTI|\n",
      "|0.0     |C:/Users/kubam/OneDrive/Desktop/studia/semestr 8/Big data/project/train/ABBOTTS BABBLER/004.jpg|ABBOTTS BABBLER|train   |MALACOCINCLA ABBOTTI|\n",
      "|0.0     |C:/Users/kubam/OneDrive/Desktop/studia/semestr 8/Big data/project/train/ABBOTTS BABBLER/005.jpg|ABBOTTS BABBLER|train   |MALACOCINCLA ABBOTTI|\n",
      "|0.0     |C:/Users/kubam/OneDrive/Desktop/studia/semestr 8/Big data/project/train/ABBOTTS BABBLER/006.jpg|ABBOTTS BABBLER|train   |MALACOCINCLA ABBOTTI|\n",
      "|0.0     |C:/Users/kubam/OneDrive/Desktop/studia/semestr 8/Big data/project/train/ABBOTTS BABBLER/010.jpg|ABBOTTS BABBLER|train   |MALACOCINCLA ABBOTTI|\n",
      "|0.0     |C:/Users/kubam/OneDrive/Desktop/studia/semestr 8/Big data/project/train/ABBOTTS BABBLER/016.jpg|ABBOTTS BABBLER|train   |MALACOCINCLA ABBOTTI|\n",
      "|0.0     |C:/Users/kubam/OneDrive/Desktop/studia/semestr 8/Big data/project/train/ABBOTTS BABBLER/017.jpg|ABBOTTS BABBLER|train   |MALACOCINCLA ABBOTTI|\n",
      "|0.0     |C:/Users/kubam/OneDrive/Desktop/studia/semestr 8/Big data/project/train/ABBOTTS BABBLER/039.jpg|ABBOTTS BABBLER|train   |MALACOCINCLA ABBOTTI|\n",
      "|0.0     |C:/Users/kubam/OneDrive/Desktop/studia/semestr 8/Big data/project/train/ABBOTTS BABBLER/040.jpg|ABBOTTS BABBLER|train   |MALACOCINCLA ABBOTTI|\n",
      "|0.0     |C:/Users/kubam/OneDrive/Desktop/studia/semestr 8/Big data/project/train/ABBOTTS BABBLER/023.jpg|ABBOTTS BABBLER|train   |MALACOCINCLA ABBOTTI|\n",
      "|0.0     |C:/Users/kubam/OneDrive/Desktop/studia/semestr 8/Big data/project/train/ABBOTTS BABBLER/025.jpg|ABBOTTS BABBLER|train   |MALACOCINCLA ABBOTTI|\n",
      "|0.0     |C:/Users/kubam/OneDrive/Desktop/studia/semestr 8/Big data/project/train/ABBOTTS BABBLER/027.jpg|ABBOTTS BABBLER|train   |MALACOCINCLA ABBOTTI|\n",
      "|0.0     |C:/Users/kubam/OneDrive/Desktop/studia/semestr 8/Big data/project/train/ABBOTTS BABBLER/015.jpg|ABBOTTS BABBLER|train   |MALACOCINCLA ABBOTTI|\n",
      "|0.0     |C:/Users/kubam/OneDrive/Desktop/studia/semestr 8/Big data/project/train/ABBOTTS BABBLER/077.jpg|ABBOTTS BABBLER|train   |MALACOCINCLA ABBOTTI|\n",
      "|0.0     |C:/Users/kubam/OneDrive/Desktop/studia/semestr 8/Big data/project/train/ABBOTTS BABBLER/014.jpg|ABBOTTS BABBLER|train   |MALACOCINCLA ABBOTTI|\n",
      "+--------+-----------------------------------------------------------------------------------------------+---------------+--------+--------------------+\n",
      "only showing top 20 rows\n",
      "\n"
     ]
    }
   ],
   "source": [
    "bird_df = bird_df.withColumn(\"filepaths\", concat(lit(photo_path), bird_df[\"filepaths\"]))\n",
    "bird_df.show(truncate=False)"
   ]
  },
  {
   "cell_type": "code",
   "execution_count": 93,
   "metadata": {},
   "outputs": [
    {
     "name": "stdout",
     "output_type": "stream",
     "text": [
      "84635\n",
      "2625\n",
      "2625\n"
     ]
    }
   ],
   "source": [
    "filepaths_train_list = [row[\"filepaths\"] for row in bird_df.filter(bird_df[\"data set\"] == \"train\").select('filepaths').collect()]\n",
    "filepaths_test_list = [row[\"filepaths\"] for row in bird_df.filter(bird_df[\"data set\"] == \"test\").select('filepaths').collect()]\n",
    "filepaths_valid_list = [row[\"filepaths\"] for row in bird_df.filter(bird_df[\"data set\"] == \"valid\").select('filepaths').collect()]\n",
    "\n",
    "print(len(filepaths_train_list)) #correct \n",
    "print(len(filepaths_test_list)) #correct \n",
    "print(len(filepaths_valid_list)) #correct "
   ]
  }
 ],
 "metadata": {
  "kernelspec": {
   "display_name": "Python 3",
   "language": "python",
   "name": "python3"
  },
  "language_info": {
   "codemirror_mode": {
    "name": "ipython",
    "version": 3
   },
   "file_extension": ".py",
   "mimetype": "text/x-python",
   "name": "python",
   "nbconvert_exporter": "python",
   "pygments_lexer": "ipython3",
   "version": "3.11.8"
  }
 },
 "nbformat": 4,
 "nbformat_minor": 2
}
